{
 "cells": [
  {
   "cell_type": "code",
   "execution_count": 21,
   "metadata": {},
   "outputs": [],
   "source": [
    "import yaml\n",
    "import configparser\n",
    "from lib.config_parser import Yml_manager \n",
    "import os\n",
    "import numpy as np"
   ]
  },
  {
   "cell_type": "code",
   "execution_count": null,
   "metadata": {},
   "outputs": [],
   "source": []
  },
  {
   "cell_type": "code",
   "execution_count": 27,
   "metadata": {},
   "outputs": [],
   "source": [
    "v = np.load('data/Tmap/data_final.npz')"
   ]
  },
  {
   "cell_type": "code",
   "execution_count": 34,
   "metadata": {},
   "outputs": [
    {
     "data": {
      "text/plain": [
       "(2, 137664, 10)"
      ]
     },
     "execution_count": 34,
     "metadata": {},
     "output_type": "execute_result"
    }
   ],
   "source": [
    "v['data'].shape\n"
   ]
  },
  {
   "cell_type": "code",
   "execution_count": 8,
   "metadata": {},
   "outputs": [],
   "source": [
    "x = np.zeros((2,3,4))\n"
   ]
  },
  {
   "cell_type": "code",
   "execution_count": 7,
   "metadata": {},
   "outputs": [],
   "source": [
    "x2 = np.zeros((2,3,4))\n"
   ]
  },
  {
   "cell_type": "code",
   "execution_count": 20,
   "metadata": {},
   "outputs": [
    {
     "data": {
      "text/plain": [
       "(2, 3, 8)"
      ]
     },
     "execution_count": 20,
     "metadata": {},
     "output_type": "execute_result"
    }
   ],
   "source": [
    "np.dstack([x, x2]).shape"
   ]
  },
  {
   "cell_type": "code",
   "execution_count": 25,
   "metadata": {},
   "outputs": [],
   "source": [
    "v = np.load('data/Tmap/real_data.npz')"
   ]
  },
  {
   "cell_type": "code",
   "execution_count": 26,
   "metadata": {},
   "outputs": [
    {
     "data": {
      "text/plain": [
       "(137664, 10, 1)"
      ]
     },
     "execution_count": 26,
     "metadata": {},
     "output_type": "execute_result"
    }
   ],
   "source": [
    "v['data'].shape\n"
   ]
  },
  {
   "cell_type": "code",
   "execution_count": null,
   "metadata": {},
   "outputs": [],
   "source": [
    "np.load"
   ]
  },
  {
   "cell_type": "code",
   "execution_count": 3,
   "metadata": {},
   "outputs": [
    {
     "ename": "RuntimeError",
     "evalue": "cuDNN error: CUDNN_STATUS_NOT_SUPPORTED. This error may appear if you passed in a non-contiguous input.",
     "output_type": "error",
     "traceback": [
      "\u001b[0;31m---------------------------------------------------------------------------\u001b[0m",
      "\u001b[0;31mRuntimeError\u001b[0m                              Traceback (most recent call last)",
      "\u001b[0;32m<ipython-input-3-78a49154336a>\u001b[0m in \u001b[0;36m<module>\u001b[0;34m\u001b[0m\n\u001b[1;32m      5\u001b[0m \u001b[0mconv1\u001b[0m \u001b[0;34m=\u001b[0m \u001b[0mnn\u001b[0m\u001b[0;34m.\u001b[0m\u001b[0mConv2d\u001b[0m\u001b[0;34m(\u001b[0m\u001b[0;36m3\u001b[0m\u001b[0;34m,\u001b[0m \u001b[0;36m3\u001b[0m\u001b[0;34m,\u001b[0m \u001b[0;36m1\u001b[0m\u001b[0;34m,\u001b[0m \u001b[0;36m1\u001b[0m\u001b[0;34m,\u001b[0m \u001b[0;36m0\u001b[0m\u001b[0;34m)\u001b[0m\u001b[0;34m.\u001b[0m\u001b[0mcuda\u001b[0m\u001b[0;34m(\u001b[0m\u001b[0;34m)\u001b[0m\u001b[0;34m\u001b[0m\u001b[0;34m\u001b[0m\u001b[0m\n\u001b[1;32m      6\u001b[0m \u001b[0my\u001b[0m \u001b[0;34m=\u001b[0m \u001b[0mconv1\u001b[0m\u001b[0;34m(\u001b[0m\u001b[0ma\u001b[0m\u001b[0;34m)\u001b[0m\u001b[0;34m\u001b[0m\u001b[0;34m\u001b[0m\u001b[0m\n\u001b[0;32m----> 7\u001b[0;31m \u001b[0my\u001b[0m\u001b[0;34m.\u001b[0m\u001b[0msum\u001b[0m\u001b[0;34m(\u001b[0m\u001b[0;34m)\u001b[0m\u001b[0;34m.\u001b[0m\u001b[0mbackward\u001b[0m\u001b[0;34m(\u001b[0m\u001b[0;34m)\u001b[0m\u001b[0;34m\u001b[0m\u001b[0;34m\u001b[0m\u001b[0m\n\u001b[0m\u001b[1;32m      8\u001b[0m \u001b[0mprint\u001b[0m\u001b[0;34m(\u001b[0m\u001b[0my\u001b[0m\u001b[0;34m.\u001b[0m\u001b[0mshape\u001b[0m\u001b[0;34m)\u001b[0m\u001b[0;34m\u001b[0m\u001b[0;34m\u001b[0m\u001b[0m\n",
      "\u001b[0;32m~/anaconda3/lib/python3.7/site-packages/torch/tensor.py\u001b[0m in \u001b[0;36mbackward\u001b[0;34m(self, gradient, retain_graph, create_graph)\u001b[0m\n\u001b[1;32m    193\u001b[0m                 \u001b[0mproducts\u001b[0m\u001b[0;34m.\u001b[0m \u001b[0mDefaults\u001b[0m \u001b[0mto\u001b[0m\u001b[0;31m \u001b[0m\u001b[0;31m`\u001b[0m\u001b[0;31m`\u001b[0m\u001b[0;32mFalse\u001b[0m\u001b[0;31m`\u001b[0m\u001b[0;31m`\u001b[0m\u001b[0;34m.\u001b[0m\u001b[0;34m\u001b[0m\u001b[0;34m\u001b[0m\u001b[0m\n\u001b[1;32m    194\u001b[0m         \"\"\"\n\u001b[0;32m--> 195\u001b[0;31m         \u001b[0mtorch\u001b[0m\u001b[0;34m.\u001b[0m\u001b[0mautograd\u001b[0m\u001b[0;34m.\u001b[0m\u001b[0mbackward\u001b[0m\u001b[0;34m(\u001b[0m\u001b[0mself\u001b[0m\u001b[0;34m,\u001b[0m \u001b[0mgradient\u001b[0m\u001b[0;34m,\u001b[0m \u001b[0mretain_graph\u001b[0m\u001b[0;34m,\u001b[0m \u001b[0mcreate_graph\u001b[0m\u001b[0;34m)\u001b[0m\u001b[0;34m\u001b[0m\u001b[0;34m\u001b[0m\u001b[0m\n\u001b[0m\u001b[1;32m    196\u001b[0m \u001b[0;34m\u001b[0m\u001b[0m\n\u001b[1;32m    197\u001b[0m     \u001b[0;32mdef\u001b[0m \u001b[0mregister_hook\u001b[0m\u001b[0;34m(\u001b[0m\u001b[0mself\u001b[0m\u001b[0;34m,\u001b[0m \u001b[0mhook\u001b[0m\u001b[0;34m)\u001b[0m\u001b[0;34m:\u001b[0m\u001b[0;34m\u001b[0m\u001b[0;34m\u001b[0m\u001b[0m\n",
      "\u001b[0;32m~/anaconda3/lib/python3.7/site-packages/torch/autograd/__init__.py\u001b[0m in \u001b[0;36mbackward\u001b[0;34m(tensors, grad_tensors, retain_graph, create_graph, grad_variables)\u001b[0m\n\u001b[1;32m     97\u001b[0m     Variable._execution_engine.run_backward(\n\u001b[1;32m     98\u001b[0m         \u001b[0mtensors\u001b[0m\u001b[0;34m,\u001b[0m \u001b[0mgrad_tensors\u001b[0m\u001b[0;34m,\u001b[0m \u001b[0mretain_graph\u001b[0m\u001b[0;34m,\u001b[0m \u001b[0mcreate_graph\u001b[0m\u001b[0;34m,\u001b[0m\u001b[0;34m\u001b[0m\u001b[0;34m\u001b[0m\u001b[0m\n\u001b[0;32m---> 99\u001b[0;31m         allow_unreachable=True)  # allow_unreachable flag\n\u001b[0m\u001b[1;32m    100\u001b[0m \u001b[0;34m\u001b[0m\u001b[0m\n\u001b[1;32m    101\u001b[0m \u001b[0;34m\u001b[0m\u001b[0m\n",
      "\u001b[0;31mRuntimeError\u001b[0m: cuDNN error: CUDNN_STATUS_NOT_SUPPORTED. This error may appear if you passed in a non-contiguous input."
     ]
    }
   ],
   "source": [
    "import torch\n",
    "import torch.nn as nn\n",
    "\n",
    "a = torch.zeros(2, 512, 512, 3).cuda().permute(0, 3, 1, 2)\n",
    "conv1 = nn.Conv2d(3, 3, 1, 1, 0).cuda()\n",
    "y = conv1(a)\n",
    "y.sum().backward()\n",
    "print(y.shape)"
   ]
  },
  {
   "cell_type": "code",
   "execution_count": 2,
   "metadata": {},
   "outputs": [
    {
     "name": "stdout",
     "output_type": "stream",
     "text": [
      "./configurations/yaml_folder1/data.yml\n",
      "./configurations/yaml_folder1/model.yml\n",
      "./configurations/yaml_folder1/training.yml\n",
      "./configurations/yaml_folder1/log.yml\n",
      "./log/result_summary/Tmap.conf/log\n",
      "Params folder ./log/result_summary/Tmap.conf/log exists! and removing\n",
      "./log/result_summary/Tmap.conf\n",
      "Params folder ./log/result_summary/Tmap.conf exists! and removing\n",
      "./log/result_summary/Tmap.conf/log/params\n",
      "./log/result_summary/Tmap.conf/log/best_params\n",
      "./log/result_summary/Tmap.conf/log/prediction_dir\n"
     ]
    }
   ],
   "source": [
    "yml_key = ['data_file', 'model_file', 'training_file', 'log_file']\n",
    "\n",
    "d = Yml_manager(yml_key,'./configurations/Tmap.conf')\n",
    "d.parsing_yml()\n",
    "d.processing_yml()"
   ]
  },
  {
   "cell_type": "code",
   "execution_count": 3,
   "metadata": {},
   "outputs": [
    {
     "data": {
      "text/plain": [
       "{'log': {'summary_log_dir': './log/result_summary/Tmap.conf/log',\n",
       "  'summary_root_dir': './log/result_summary/Tmap.conf',\n",
       "  'params_dir': './log/result_summary/Tmap.conf/log/params',\n",
       "  'best_params_dir': './log/result_summary/Tmap.conf/log/best_params',\n",
       "  'prediction_base_dir': './log/result_summary/Tmap.conf/log/prediction_dir'},\n",
       " 'data': {'name': 'Tmap',\n",
       "  'type': {'feature_type': 'M', 'adj_type': 'D'},\n",
       "  'dir': {'adj_type': 'D',\n",
       "   'prod_data': 'data/Tmap/prod_data_ma3_multif.npz',\n",
       "   'real_data': 'data/Tmap/real_data_ma3_multif.npz'},\n",
       "  'setting': {'num_of_weeks': 1,\n",
       "   'num_of_days': 1,\n",
       "   'num_of_hours': 1,\n",
       "   'num_of_vertices': 17,\n",
       "   'points_per_hour': 12,\n",
       "   'num_for_predict': 6,\n",
       "   'len_input': 12}},\n",
       " 'model_back_bone': {'common': {'nb_input': 3,\n",
       "   'nb_block': 2,\n",
       "   'K': 3,\n",
       "   'batch_size': 32},\n",
       "  'layer_1': {'in_channels': 2,\n",
       "   'nb_chev_filter': 64,\n",
       "   'nb_time_filter': 64,\n",
       "   'time_strides': 1,\n",
       "   'num_for_predict': 6,\n",
       "   'len_input': 12,\n",
       "   'num_of_vertices': 17},\n",
       "  'layer_2': {'in_channels': 64,\n",
       "   'nb_chev_filter': 64,\n",
       "   'nb_time_filter': 64,\n",
       "   'time_strides': 1,\n",
       "   'num_for_predict': 6,\n",
       "   'len_input': 12,\n",
       "   'num_of_vertices': 17}},\n",
       " 'training': {'Device_info': {'Device_type': 'GPU', 'GPU_COUNT': 1, 'ctx': 0},\n",
       "  'Training_parameter': {'optimizer': 'Adam',\n",
       "   'lr_scheduler': 'Step_wise',\n",
       "   'loss': 'L2',\n",
       "   'learning_rate': 0.001,\n",
       "   'epochs': 200,\n",
       "   'batch_size': 32}}}"
      ]
     },
     "execution_count": 3,
     "metadata": {},
     "output_type": "execute_result"
    }
   ],
   "source": [
    "d.result"
   ]
  },
  {
   "cell_type": "code",
   "execution_count": 4,
   "metadata": {},
   "outputs": [
    {
     "data": {
      "text/plain": [
       "{'name': 'Tmap',\n",
       " 'type': {'feature_type': 'M', 'adj_type': 'D'},\n",
       " 'dir': {'adj_filename': 'data/Tmap/reformed_con_distance.csv',\n",
       "  'prod_traffic_m': 'data/Tmap/prod_data_ma3_multif.npz',\n",
       "  'prod_traffic_s': 'data/Tmap/prod_data_ma3_singlef.npz',\n",
       "  'real_traffic': 'data/Tmap/real_data_ma3_multif.npz'},\n",
       " 'setting': {'num_of_weeks': 1,\n",
       "  'num_of_days': 1,\n",
       "  'num_of_hours': 1,\n",
       "  'num_of_vertices': 17,\n",
       "  'points_per_hour': 12,\n",
       "  'num_for_predict': 6,\n",
       "  'len_input': 12}}"
      ]
     },
     "execution_count": 4,
     "metadata": {},
     "output_type": "execute_result"
    }
   ],
   "source": [
    "data_dict"
   ]
  },
  {
   "cell_type": "code",
   "execution_count": 6,
   "metadata": {},
   "outputs": [
    {
     "ename": "NameError",
     "evalue": "name 'train_dict' is not defined",
     "output_type": "error",
     "traceback": [
      "\u001b[0;31m---------------------------------------------------------------------------\u001b[0m",
      "\u001b[0;31mNameError\u001b[0m                                 Traceback (most recent call last)",
      "\u001b[0;32m<ipython-input-6-67eb2f8817bd>\u001b[0m in \u001b[0;36m<module>\u001b[0;34m\u001b[0m\n\u001b[0;32m----> 1\u001b[0;31m \u001b[0md\u001b[0m\u001b[0;34m.\u001b[0m\u001b[0mprocessing_yml\u001b[0m\u001b[0;34m(\u001b[0m\u001b[0;34m)\u001b[0m\u001b[0;34m\u001b[0m\u001b[0;34m\u001b[0m\u001b[0m\n\u001b[0m",
      "\u001b[0;32m~/ASTGCN-r-pytorch/lib/config_parser.py\u001b[0m in \u001b[0;36mprocessing_yml\u001b[0;34m(self)\u001b[0m\n\u001b[1;32m    147\u001b[0m         \u001b[0mprocessing_data_config\u001b[0m\u001b[0;34m(\u001b[0m\u001b[0;34m)\u001b[0m\u001b[0;34m\u001b[0m\u001b[0;34m\u001b[0m\u001b[0m\n\u001b[1;32m    148\u001b[0m         \u001b[0msaving_json\u001b[0m\u001b[0;34m(\u001b[0m\u001b[0;34m)\u001b[0m\u001b[0;34m\u001b[0m\u001b[0;34m\u001b[0m\u001b[0m\n\u001b[0;32m--> 149\u001b[0;31m         \u001b[0mmake_model_backbone\u001b[0m\u001b[0;34m(\u001b[0m\u001b[0;34m)\u001b[0m\u001b[0;34m\u001b[0m\u001b[0;34m\u001b[0m\u001b[0m\n\u001b[0m\u001b[1;32m    150\u001b[0m         \u001b[0mtraining_info\u001b[0m\u001b[0;34m(\u001b[0m\u001b[0;34m)\u001b[0m\u001b[0;34m\u001b[0m\u001b[0;34m\u001b[0m\u001b[0m\n\u001b[1;32m    151\u001b[0m \u001b[0;34m\u001b[0m\u001b[0m\n",
      "\u001b[0;32m~/ASTGCN-r-pytorch/lib/config_parser.py\u001b[0m in \u001b[0;36mmake_model_backbone\u001b[0;34m()\u001b[0m\n\u001b[1;32m    109\u001b[0m                     \u001b[0;34m'nb_block'\u001b[0m \u001b[0;34m:\u001b[0m \u001b[0mmodel_dict\u001b[0m\u001b[0;34m[\u001b[0m\u001b[0;34m'structure'\u001b[0m\u001b[0;34m]\u001b[0m\u001b[0;34m[\u001b[0m\u001b[0;34m'num_layer'\u001b[0m\u001b[0;34m]\u001b[0m\u001b[0;34m,\u001b[0m\u001b[0;34m\u001b[0m\u001b[0;34m\u001b[0m\u001b[0m\n\u001b[1;32m    110\u001b[0m                     \u001b[0;34m'K'\u001b[0m \u001b[0;34m:\u001b[0m \u001b[0mmodel_dict\u001b[0m\u001b[0;34m[\u001b[0m\u001b[0;34m'etc_hyperparam'\u001b[0m\u001b[0;34m]\u001b[0m\u001b[0;34m[\u001b[0m\u001b[0;34m'K'\u001b[0m\u001b[0;34m]\u001b[0m\u001b[0;34m,\u001b[0m\u001b[0;34m\u001b[0m\u001b[0;34m\u001b[0m\u001b[0m\n\u001b[0;32m--> 111\u001b[0;31m                     \u001b[0;34m'batch_size'\u001b[0m \u001b[0;34m:\u001b[0m \u001b[0mtrain_dict\u001b[0m\u001b[0;34m[\u001b[0m\u001b[0;34m'Training_parameter'\u001b[0m\u001b[0;34m]\u001b[0m\u001b[0;34m[\u001b[0m\u001b[0;34m'batch_size'\u001b[0m\u001b[0;34m]\u001b[0m\u001b[0;34m,\u001b[0m\u001b[0;34m\u001b[0m\u001b[0;34m\u001b[0m\u001b[0m\n\u001b[0m\u001b[1;32m    112\u001b[0m \u001b[0;34m\u001b[0m\u001b[0m\n\u001b[1;32m    113\u001b[0m                 },\n",
      "\u001b[0;31mNameError\u001b[0m: name 'train_dict' is not defined"
     ]
    }
   ],
   "source": [
    "d.processing_yml()"
   ]
  },
  {
   "cell_type": "code",
   "execution_count": 24,
   "metadata": {},
   "outputs": [],
   "source": [
    "\n",
    "def yml_dict(key_list):\n",
    "    \n",
    "    result_dict = {}\n",
    "    \n",
    "    for key in key_list: \n",
    "        \n",
    "        file = config['File'][key]\n",
    "        print(file)\n",
    "        with open(file) as f:\n",
    "\n",
    "            result_dict[key.split('_')[0]] = yaml.load(f, Loader=yaml.FullLoader)\n",
    "    return result_dict\n"
   ]
  },
  {
   "cell_type": "code",
   "execution_count": 25,
   "metadata": {},
   "outputs": [
    {
     "name": "stdout",
     "output_type": "stream",
     "text": [
      "./configurations/yaml_folder1/data.yml\n",
      "./configurations/yaml_folder1/model.yml\n",
      "./configurations/yaml_folder1/training.yml\n",
      "./configurations/yaml_folder1/log.yml\n"
     ]
    }
   ],
   "source": [
    "config_dict = yml_dict(yml_key)\n",
    "\n",
    "\n",
    "\n"
   ]
  },
  {
   "cell_type": "code",
   "execution_count": 26,
   "metadata": {},
   "outputs": [],
   "source": [
    "log_dict = config_dict['log']\n",
    "data_dict = config_dict['data']\n",
    "model_dict = config_dict['model']\n",
    "train_dict = config_dict['training']"
   ]
  },
  {
   "cell_type": "code",
   "execution_count": 27,
   "metadata": {},
   "outputs": [
    {
     "data": {
      "text/plain": [
       "{'name': 'Tmap',\n",
       " 'type': {'feature_type': 'M', 'adj_type': 'D'},\n",
       " 'dir': {'adj_filename': 'data/Tmap/reformed_con_distance.csv',\n",
       "  'prod_traffic_m': 'data/Tmap/prod_data_ma3_multif.npz',\n",
       "  'prod_traffic_s': 'data/Tmap/prod_data_ma3_singlef.npz',\n",
       "  'real_traffic': 'data/Tmap/real_data_ma3_multif.npz'},\n",
       " 'setting': {'num_of_weeks': 1,\n",
       "  'num_of_days': 1,\n",
       "  'num_of_hours': 1,\n",
       "  'num_of_vertices': 17,\n",
       "  'points_per_hour': 12,\n",
       "  'num_for_predict': 6,\n",
       "  'len_input': 12}}"
      ]
     },
     "execution_count": 27,
     "metadata": {},
     "output_type": "execute_result"
    }
   ],
   "source": [
    "data_dict"
   ]
  },
  {
   "cell_type": "code",
   "execution_count": 28,
   "metadata": {},
   "outputs": [
    {
     "data": {
      "text/plain": [
       "{'Device_info': {'Device_type': 'GPU', 'GPU_COUNT': 1, 'ctx': 0},\n",
       " 'Training_parameter': {'optimizer': 'Adam',\n",
       "  'lr_scheduler': 'Step_wise',\n",
       "  'loss': 'L2',\n",
       "  'learning_rate': 0.001,\n",
       "  'epochs': 200,\n",
       "  'batch_size': 32}}"
      ]
     },
     "execution_count": 28,
     "metadata": {},
     "output_type": "execute_result"
    }
   ],
   "source": [
    "train_dict"
   ]
  },
  {
   "cell_type": "code",
   "execution_count": 29,
   "metadata": {},
   "outputs": [
    {
     "data": {
      "text/plain": [
       "{'name': 'ASTGCN',\n",
       " 'etc_hyperparam': {'K': 3},\n",
       " 'structure': {'num_layer': 2,\n",
       "  'nb_chev_filter': 64,\n",
       "  'nb_time_filter': 64,\n",
       "  'layer1_feature': 64,\n",
       "  'layer2_feature': 128}}"
      ]
     },
     "execution_count": 29,
     "metadata": {},
     "output_type": "execute_result"
    }
   ],
   "source": [
    "model_dict"
   ]
  },
  {
   "cell_type": "code",
   "execution_count": 19,
   "metadata": {},
   "outputs": [
    {
     "data": {
      "text/plain": [
       "3"
      ]
     },
     "execution_count": 19,
     "metadata": {},
     "output_type": "execute_result"
    }
   ],
   "source": [
    "model_dict['etc_hyperparam']['K']"
   ]
  },
  {
   "cell_type": "code",
   "execution_count": 105,
   "metadata": {},
   "outputs": [
    {
     "data": {
      "text/plain": [
       "'./log/result_summary/log/tmp.conf'"
      ]
     },
     "execution_count": 105,
     "metadata": {},
     "output_type": "execute_result"
    }
   ],
   "source": [
    "log_dict['summary_log_dir']"
   ]
  },
  {
   "cell_type": "code",
   "execution_count": 104,
   "metadata": {},
   "outputs": [],
   "source": [
    "log_dict['summary_log_dir'] += '/' + 'tmp.conf'"
   ]
  },
  {
   "cell_type": "code",
   "execution_count": 101,
   "metadata": {},
   "outputs": [],
   "source": [
    "summary_dir = log_dict['summary_log_dir']\n",
    "log_dict['summary_root_dir'] = summary_dir\n",
    "log_dict['summary_log_dir'] = summary_dir +'/' + 'log'\n",
    "log_dict['params_dir']  = summary_dir + '/' + 'params'\n",
    "log_dict['best_params_dir']  = summary_dir + '/' + 'best_params'\n",
    "log_dict['prediction_base_dir']  = summary_dir + '/' + 'prediction_dir' "
   ]
  },
  {
   "cell_type": "code",
   "execution_count": 102,
   "metadata": {},
   "outputs": [
    {
     "data": {
      "text/plain": [
       "{'summary_log_dir': './log/result_summary/log',\n",
       " 'summary_root_dir': './log/result_summary',\n",
       " 'params_dir': './log/result_summary/params',\n",
       " 'best_params_dir': './log/result_summary/best_params',\n",
       " 'prediction_base_dir': './log/result_summary/prediction_dir'}"
      ]
     },
     "execution_count": 102,
     "metadata": {},
     "output_type": "execute_result"
    }
   ],
   "source": [
    "log_dict"
   ]
  },
  {
   "cell_type": "code",
   "execution_count": 84,
   "metadata": {},
   "outputs": [
    {
     "data": {
      "text/plain": [
       "[{'Device_info': {'Device_type': 'GPU', 'GPU_COUNT': 1, 'ctx': 0}},\n",
       " {'Training_parameter': {'optimizer': 'Adam',\n",
       "   'lr_scheduler': 'Step_wise',\n",
       "   'loss': 'L2',\n",
       "   'learning_rate': 0.001,\n",
       "   'epochs': 200,\n",
       "   'batch_size': 32}}]"
      ]
     },
     "execution_count": 84,
     "metadata": {},
     "output_type": "execute_result"
    }
   ],
   "source": [
    "train_dict"
   ]
  },
  {
   "cell_type": "code",
   "execution_count": 85,
   "metadata": {},
   "outputs": [
    {
     "data": {
      "text/plain": [
       "[{'name': 'Tmap'},\n",
       " {'type': {'feature_type': 'M', 'adj_type': 'D'}},\n",
       " {'dir': {'adj_filename': 'data/Tmap/reformed_con_distance.csv',\n",
       "   'prod_traffic_m': 'data/Tmap/prod_data_ma3_multif.npz',\n",
       "   'prod_traffic_s': 'data/Tmap/prod_data_ma3_singlef.npz',\n",
       "   'real_traffic': 'data/Tmap/real_data_ma3_multif.npz'}},\n",
       " {'setting': {'num_of_weeks': 1,\n",
       "   'num_of_days': 1,\n",
       "   'num_of_hours': 1,\n",
       "   'num_of_vertices': 17,\n",
       "   'points_per_hour': 12,\n",
       "   'num_for_predict': 6,\n",
       "   'len_input': 12}}]"
      ]
     },
     "execution_count": 85,
     "metadata": {},
     "output_type": "execute_result"
    }
   ],
   "source": [
    "data_dict"
   ]
  },
  {
   "cell_type": "code",
   "execution_count": null,
   "metadata": {},
   "outputs": [],
   "source": []
  },
  {
   "cell_type": "code",
   "execution_count": null,
   "metadata": {},
   "outputs": [],
   "source": []
  }
 ],
 "metadata": {
  "kernelspec": {
   "display_name": "Python 3",
   "language": "python",
   "name": "python3"
  },
  "language_info": {
   "codemirror_mode": {
    "name": "ipython",
    "version": 3
   },
   "file_extension": ".py",
   "mimetype": "text/x-python",
   "name": "python",
   "nbconvert_exporter": "python",
   "pygments_lexer": "ipython3",
   "version": "3.7.3"
  }
 },
 "nbformat": 4,
 "nbformat_minor": 2
}
